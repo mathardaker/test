{
 "cells": [
  {
   "cell_type": "code",
   "execution_count": null,
   "id": "16f55fb4-1cae-4c7d-b12b-0e11c7169a7c",
   "metadata": {
    "tags": []
   },
   "outputs": [],
   "source": [
    "# Create a BigQuery dataset\n",
    "from google.cloud import bigquery\n",
    "\n",
    "# Construct a BigQuery client object.\n",
    "client = bigquery.Client()\n",
    "\n",
    "dataset_id = \"{}.mh_dataset\".format(client.project)\n",
    "\n",
    "# Construct a full Dataset object to send to the API.\n",
    "dataset = bigquery.Dataset(dataset_id)\n",
    "\n",
    "# TODO(developer): Specify the geographic location where the dataset should reside.\n",
    "dataset.location = \"EU\"\n",
    "\n",
    "# Send the dataset to the API for creation, with an explicit timeout.\n",
    "# Raises google.api_core.exceptions.Conflict if the Dataset already\n",
    "# exists within the project.\n",
    "dataset = client.create_dataset(dataset, timeout=30)  # Make an API request.\n",
    "print(\"Created dataset {}.{}\".format(client.project, dataset.dataset_id))\n"
   ]
  },
  {
   "cell_type": "code",
   "execution_count": null,
   "id": "adb77e7a-a78d-4c69-8e04-0260a43f6ef2",
   "metadata": {
    "tags": []
   },
   "outputs": [],
   "source": [
    "# Create a table\n",
    "from google.cloud import bigquery\n",
    "\n",
    "# Construct a BigQuery client object.\n",
    "client = bigquery.Client()\n",
    "\n",
    "table_id = \"playpen-2940ab.mh_dataset.sales\"\n",
    "\n",
    "schema = [\n",
    "    bigquery.SchemaField(\"SalesOrderNumber\", \"STRING\", mode=\"NULLABLE\"),\n",
    "    bigquery.SchemaField(\"OrderDate\", \"DATE\", mode=\"NULLABLE\"),\n",
    "    bigquery.SchemaField(\"ProductKey\", \"INTEGER\", mode=\"NULLABLE\"),\n",
    "    bigquery.SchemaField(\"ResellerKey\", \"INTEGER\", mode=\"NULLABLE\"),\n",
    "    bigquery.SchemaField(\"EmployeeKey\", \"INTEGER\", mode=\"NULLABLE\"),\n",
    "    bigquery.SchemaField(\"SalesTerritoryKey\", \"INTEGER\", mode=\"NULLABLE\"),\n",
    "    bigquery.SchemaField(\"Quantity\", \"INTEGER\", mode=\"NULLABLE\"),\n",
    "    bigquery.SchemaField(\"UnitPrice\", \"FLOAT\", mode=\"NULLABLE\"),\n",
    "    bigquery.SchemaField(\"Sales\", \"FLOAT\", mode=\"NULLABLE\"),\n",
    "    bigquery.SchemaField(\"Cost\", \"FLOAT\", mode=\"NULLABLE\"),\n",
    "]\n",
    "\n",
    "table = bigquery.Table(table_id, schema=schema)\n",
    "table = client.create_table(table)  # Make an API request.\n",
    "print(\n",
    "    \"Created table {}.{}.{}\".format(table.project, table.dataset_id, table.table_id)\n",
    ")"
   ]
  },
  {
   "cell_type": "code",
   "execution_count": null,
   "id": "8481b89f-57ac-4f80-868b-da7cdddaead4",
   "metadata": {
    "tags": []
   },
   "outputs": [],
   "source": [
    "# Add a file to a bucket\n",
    "from google.cloud import storage\n",
    "\n",
    "\n",
    "def upload_blob(bucket_name, source_file_name, destination_blob_name):\n",
    "\n",
    "    storage_client = storage.Client()\n",
    "    bucket = storage_client.bucket(bucket_name)\n",
    "    blob = bucket.blob(destination_blob_name)\n",
    "\n",
    "    blob.upload_from_filename(source_file_name)\n",
    "\n",
    "    print(\n",
    "        f\"File {source_file_name} uploaded to {destination_blob_name}.\"\n",
    "    )\n",
    "\n",
    "upload_blob(\"bkt-ms_dataflow\", \"/home/jupyter/sales.csv\", \"sales.csv\")\n"
   ]
  },
  {
   "cell_type": "code",
   "execution_count": null,
   "id": "9bd7d1b9-717d-4e60-b574-580c62d84787",
   "metadata": {
    "tags": []
   },
   "outputs": [],
   "source": [
    "# Load table from CSV in bucket\n",
    "from google.cloud import bigquery\n",
    "\n",
    "# Construct a BigQuery client object.\n",
    "client = bigquery.Client()\n",
    "\n",
    "table_id = \"playpen-2940ab.mh_dataset.sales\"\n",
    "\n",
    "job_config = bigquery.LoadJobConfig(\n",
    "    schema=[\n",
    "        bigquery.SchemaField(\"SalesOrderNumber\", \"STRING\"),\n",
    "        bigquery.SchemaField(\"OrderDate\", \"DATE\"),\n",
    "        bigquery.SchemaField(\"ProductKey\", \"INTEGER\"),\n",
    "        bigquery.SchemaField(\"ResellerKey\", \"INTEGER\"),\n",
    "        bigquery.SchemaField(\"EmployeeKey\", \"INTEGER\"),\n",
    "        bigquery.SchemaField(\"SalesTerritoryKey\", \"INTEGER\"),\n",
    "        bigquery.SchemaField(\"Quantity\", \"INTEGER\"),\n",
    "        bigquery.SchemaField(\"UnitPrice\", \"FLOAT\"),\n",
    "        bigquery.SchemaField(\"Sales\", \"FLOAT\"),\n",
    "        bigquery.SchemaField(\"Cost\", \"FLOAT\"),\n",
    "    ],\n",
    "    skip_leading_rows=1,\n",
    "    # The source format defaults to CSV, so the line below is optional.\n",
    "    source_format=bigquery.SourceFormat.CSV,\n",
    ")\n",
    "uri = \"gs://bkt-ms_dataflow/sales.csv\"\n",
    "\n",
    "load_job = client.load_table_from_uri(\n",
    "    uri, table_id, job_config=job_config\n",
    ")  # Make an API request.\n",
    "\n",
    "load_job.result()  # Waits for the job to complete.\n",
    "\n",
    "destination_table = client.get_table(table_id)  # Make an API request.\n",
    "print(\"Loaded {} rows.\".format(destination_table.num_rows))"
   ]
  },
  {
   "cell_type": "code",
   "execution_count": null,
   "id": "fc6f1319-f3ed-4973-957d-1020e50bb72e",
   "metadata": {
    "tags": []
   },
   "outputs": [],
   "source": [
    "# Query a table to a dataframe\n",
    "from google.cloud import bigquery\n",
    "client = bigquery.Client()\n",
    "\n",
    "sql = \"\"\"\n",
    "    SELECT *\n",
    "    FROM `playpen-2940ab.de_dataset.Sales`\n",
    "    WHERE OrderDate BETWEEN '2019-01-01' AND '2019-12-31'\n",
    "\"\"\"\n",
    "\n",
    "df = client.query_and_wait(sql).to_dataframe()\n",
    "\n",
    "print(df)"
   ]
  },
  {
   "cell_type": "code",
   "execution_count": null,
   "id": "a16f9869-8201-4fa8-a994-deff4b14e7c9",
   "metadata": {
    "tags": []
   },
   "outputs": [],
   "source": [
    "# Write dataframe to CSV\n",
    "df.to_csv(\"2019_sales.csv\")"
   ]
  },
  {
   "cell_type": "code",
   "execution_count": 33,
   "id": "f9a07d0e-a1b3-44bf-b2e6-9844df370bce",
   "metadata": {},
   "outputs": [],
   "source": [
    "# Import llm and assign it to generation_model\n",
    "from vertexai.language_models import TextGenerationModel # Import a model library from the Vertex AI SDK\n",
    "generation_model = TextGenerationModel.from_pretrained(\"text-bison@001\") # Configure your model version here, the model type needs to match the imported model"
   ]
  },
  {
   "cell_type": "code",
   "execution_count": 34,
   "id": "e34126a2-6ff1-4be0-9e26-a8bc16ad7d10",
   "metadata": {
    "tags": []
   },
   "outputs": [
    {
     "name": "stdout",
     "output_type": "stream",
     "text": [
      "This SQL statement selects the SalesOrderNumber, OrderDate, and ProductKey columns from the Sales table in the de_dataset dataset. The WHERE clause filters the results to only include rows where the SalesOrderNumber column is not empty and the OrderDate column is between 2020-01-01 and 2020-12-31.\n"
     ]
    }
   ],
   "source": [
    "# Pass a prompt to llm asking it to explain the SQL query run previously\n",
    "prompt = \"Explain this SQL statement \" + QUERY # You use multi-line strings to format the prompt to be easily readable.\n",
    "\n",
    "print(generation_model.predict(prompt=prompt, max_output_tokens=256).text)"
   ]
  },
  {
   "cell_type": "code",
   "execution_count": 35,
   "id": "9da1c5a1-f850-4706-b639-b51a6118bb47",
   "metadata": {
    "tags": []
   },
   "outputs": [
    {
     "name": "stdout",
     "output_type": "stream",
     "text": [
      "Ask me anything\n"
     ]
    },
    {
     "data": {
      "application/vnd.jupyter.widget-view+json": {
       "model_id": "de61740d32ef46df89fab51603634a9d",
       "version_major": 2,
       "version_minor": 0
      },
      "text/plain": [
       "Text(value='', placeholder='Ask me a question')"
      ]
     },
     "metadata": {},
     "output_type": "display_data"
    },
    {
     "data": {
      "application/vnd.jupyter.widget-view+json": {
       "model_id": "9bbff284b1364a178a9b39086fc60212",
       "version_major": 2,
       "version_minor": 0
      },
      "text/plain": [
       "Button(description='Ask', style=ButtonStyle())"
      ]
     },
     "metadata": {},
     "output_type": "display_data"
    },
    {
     "data": {
      "application/vnd.jupyter.widget-view+json": {
       "model_id": "67d8ff8b6a8745c3a34f69fd59976f5d",
       "version_major": 2,
       "version_minor": 0
      },
      "text/plain": [
       "Output()"
      ]
     },
     "metadata": {},
     "output_type": "display_data"
    }
   ],
   "source": [
    "# Add a widget that includes text box for a question and an ask button that calls the llm with the question and displays the result\n",
    "import ipywidgets as widgets\n",
    "\n",
    "# The following sets up input objects, these refer to the fields and buttons in the interface.\n",
    "input1 = widgets.Text(placeholder=\"Ask me a question\")\n",
    "button = widgets.Button(description=\"Ask\")\n",
    "output = widgets.Output()\n",
    "\n",
    "# This function defines what happens when the button is clicked.\n",
    "def on_button_clicked(b):\n",
    "    with output:\n",
    "        question = input1.value # Set the values of location and month from the inputs\n",
    "        prompt = question # Using a template string to send the model a dynamic prompt from the fields.\n",
    "        print(generation_model.predict(prompt=prompt, max_output_tokens=256).text)\n",
    "\n",
    "# This attaches the button click event to the above function.        \n",
    "button.on_click(on_button_clicked)\n",
    "\n",
    "# Display widgets and title of the app.\n",
    "print(\"Ask me anything\")\n",
    "display(input1,button,output)"
   ]
  },
  {
   "cell_type": "code",
   "execution_count": null,
   "id": "40cbfb79-f203-4c67-8cd9-f1cafc000e19",
   "metadata": {},
   "outputs": [],
   "source": []
  }
 ],
 "metadata": {
  "environment": {
   "kernel": "python3",
   "name": "tf2-gpu.2-13.m119",
   "type": "gcloud",
   "uri": "us-docker.pkg.dev/deeplearning-platform-release/gcr.io/tf2-gpu.2-13:m119"
  },
  "kernelspec": {
   "display_name": "Python 3 (Local)",
   "language": "python",
   "name": "python3"
  },
  "language_info": {
   "codemirror_mode": {
    "name": "ipython",
    "version": 3
   },
   "file_extension": ".py",
   "mimetype": "text/x-python",
   "name": "python",
   "nbconvert_exporter": "python",
   "pygments_lexer": "ipython3",
   "version": "3.10.14"
  }
 },
 "nbformat": 4,
 "nbformat_minor": 5
}

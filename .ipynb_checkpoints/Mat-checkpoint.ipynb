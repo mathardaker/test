{
 "cells": [
  {
   "cell_type": "code",
   "execution_count": null,
   "id": "16f55fb4-1cae-4c7d-b12b-0e11c7169a7c",
   "metadata": {
    "tags": []
   },
   "outputs": [],
   "source": [
    "# Create a BigQuery dataset\n",
    "from google.cloud import bigquery\n",
    "\n",
    "# Construct a BigQuery client object.\n",
    "client = bigquery.Client()\n",
    "\n",
    "dataset_id = \"{}.mh_dataset\".format(client.project)\n",
    "\n",
    "# Construct a full Dataset object to send to the API.\n",
    "dataset = bigquery.Dataset(dataset_id)\n",
    "\n",
    "# TODO(developer): Specify the geographic location where the dataset should reside.\n",
    "dataset.location = \"EU\"\n",
    "\n",
    "# Send the dataset to the API for creation, with an explicit timeout.\n",
    "# Raises google.api_core.exceptions.Conflict if the Dataset already\n",
    "# exists within the project.\n",
    "dataset = client.create_dataset(dataset, timeout=30)  # Make an API request.\n",
    "print(\"Created dataset {}.{}\".format(client.project, dataset.dataset_id))\n"
   ]
  },
  {
   "cell_type": "code",
   "execution_count": 14,
   "id": "adb77e7a-a78d-4c69-8e04-0260a43f6ef2",
   "metadata": {
    "tags": []
   },
   "outputs": [
    {
     "name": "stdout",
     "output_type": "stream",
     "text": [
      "Created table playpen-2940ab.mh_dataset.sales\n"
     ]
    }
   ],
   "source": [
    "# Create a table\n",
    "from google.cloud import bigquery\n",
    "\n",
    "# Construct a BigQuery client object.\n",
    "client = bigquery.Client()\n",
    "\n",
    "table_id = \"playpen-2940ab.mh_dataset.sales\"\n",
    "\n",
    "schema = [\n",
    "    bigquery.SchemaField(\"SalesOrderNumber\", \"STRING\", mode=\"NULLABLE\"),\n",
    "    bigquery.SchemaField(\"OrderDate\", \"DATE\", mode=\"NULLABLE\"),\n",
    "    bigquery.SchemaField(\"ProductKey\", \"INTEGER\", mode=\"NULLABLE\"),\n",
    "    bigquery.SchemaField(\"ResellerKey\", \"INTEGER\", mode=\"NULLABLE\"),\n",
    "    bigquery.SchemaField(\"EmployeeKey\", \"INTEGER\", mode=\"NULLABLE\"),\n",
    "    bigquery.SchemaField(\"SalesTerritoryKey\", \"INTEGER\", mode=\"NULLABLE\"),\n",
    "    bigquery.SchemaField(\"UnitPrice\", \"FLOAT\", mode=\"NULLABLE\"),\n",
    "    bigquery.SchemaField(\"Sales\", \"FLOAT\", mode=\"NULLABLE\"),\n",
    "    bigquery.SchemaField(\"Cost\", \"FLOAT\", mode=\"NULLABLE\"),\n",
    "]\n",
    "\n",
    "table = bigquery.Table(table_id, schema=schema)\n",
    "table = client.create_table(table)  # Make an API request.\n",
    "print(\n",
    "    \"Created table {}.{}.{}\".format(table.project, table.dataset_id, table.table_id)\n",
    ")"
   ]
  },
  {
   "cell_type": "code",
   "execution_count": 18,
   "id": "8481b89f-57ac-4f80-868b-da7cdddaead4",
   "metadata": {
    "tags": []
   },
   "outputs": [],
   "source": [
    "# Add a file to a bucket\n",
    "from google.cloud import storage\n",
    "\n",
    "\n",
    "def upload_blob(bucket_name, source_file_name, destination_blob_name):\n",
    "    \"\"\"Uploads a file to the bucket.\"\"\"\n",
    "    bucket_name = \"bkt-ms_dataflow\"\n",
    "    source_file_name = \"/home/jupyter/sales.csv\"\n",
    "    destination_blob_name = \"sales.csv\"\n",
    "\n",
    "    storage_client = storage.Client()\n",
    "    bucket = storage_client.bucket(bucket_name)\n",
    "    blob = bucket.blob(destination_blob_name)\n",
    "\n",
    "    blob.upload_from_filename(source_file_name, if_generation_match=generation_match_precondition)\n",
    "\n",
    "    print(\n",
    "        f\"File {source_file_name} uploaded to {destination_blob_name}.\"\n",
    "    )\n"
   ]
  },
  {
   "cell_type": "code",
   "execution_count": null,
   "id": "f9a07d0e-a1b3-44bf-b2e6-9844df370bce",
   "metadata": {},
   "outputs": [],
   "source": [
    "from vertexai.language_models import TextGenerationModel # Import a model library from the Vertex AI SDK\n",
    "generation_model = TextGenerationModel.from_pretrained(\"text-bison@001\") # Configure your model version here, the model type needs to match the imported model"
   ]
  },
  {
   "cell_type": "code",
   "execution_count": null,
   "id": "e34126a2-6ff1-4be0-9e26-a8bc16ad7d10",
   "metadata": {
    "tags": []
   },
   "outputs": [],
   "source": [
    "prompt = \"Explain this SQL statement \" + QUERY # You use multi-line strings to format the prompt to be easily readable.\n",
    "\n",
    "print(generation_model.predict(prompt=prompt, max_output_tokens=256).text)"
   ]
  },
  {
   "cell_type": "code",
   "execution_count": null,
   "id": "9da1c5a1-f850-4706-b639-b51a6118bb47",
   "metadata": {
    "tags": []
   },
   "outputs": [],
   "source": [
    "import ipywidgets as widgets\n",
    "\n",
    "# The following sets up input objects, these refer to the fields and buttons in the interface.\n",
    "input1 = widgets.Text(placeholder=\"Ask me a question\")\n",
    "button = widgets.Button(description=\"Ask\")\n",
    "output = widgets.Output()\n",
    "\n",
    "# This function defines what happens when the button is clicked.\n",
    "def on_button_clicked(b):\n",
    "    with output:\n",
    "        question = input1.value # Set the values of location and month from the inputs\n",
    "        prompt = question # Using a template string to send the model a dynamic prompt from the fields.\n",
    "        print(generation_model.predict(prompt=prompt, max_output_tokens=256).text)\n",
    "\n",
    "# This attaches the button click event to the above function.        \n",
    "button.on_click(on_button_clicked)\n",
    "\n",
    "# Display widgets and title of the app.\n",
    "print(\"Ask me anything\")\n",
    "display(input1,button,output)"
   ]
  },
  {
   "cell_type": "code",
   "execution_count": null,
   "id": "40cbfb79-f203-4c67-8cd9-f1cafc000e19",
   "metadata": {},
   "outputs": [],
   "source": []
  }
 ],
 "metadata": {
  "environment": {
   "kernel": "python3",
   "name": "tf2-gpu.2-13.m119",
   "type": "gcloud",
   "uri": "us-docker.pkg.dev/deeplearning-platform-release/gcr.io/tf2-gpu.2-13:m119"
  },
  "kernelspec": {
   "display_name": "Python 3 (Local)",
   "language": "python",
   "name": "python3"
  },
  "language_info": {
   "codemirror_mode": {
    "name": "ipython",
    "version": 3
   },
   "file_extension": ".py",
   "mimetype": "text/x-python",
   "name": "python",
   "nbconvert_exporter": "python",
   "pygments_lexer": "ipython3",
   "version": "3.10.14"
  }
 },
 "nbformat": 4,
 "nbformat_minor": 5
}
